{
 "cells": [
  {
   "cell_type": "code",
   "execution_count": 23,
   "id": "907499a1",
   "metadata": {},
   "outputs": [
    {
     "name": "stdout",
     "output_type": "stream",
     "text": [
      "Samosa = 300/-\n",
      "Kachori = 100/-\n",
      "Fafda = 100/-\n",
      "Jalebi = 200/-\n",
      "Total=700\n",
      "Gst=18%\n",
      "Final Total=826.0/-\n"
     ]
    }
   ],
   "source": [
    "prod_list =4\n",
    "\n",
    "product=[]\n",
    "price=[]\n",
    "\n",
    "for i in range(prod_list):\n",
    "    i=input(f'Enter product {i+1}:')\n",
    "    product.append(i)\n",
    "    confirm=input(\"Do you Want to add more [Y/N]\")\n",
    "    if(confirm==\"Y\"):\n",
    "        pass\n",
    "    else:\n",
    "        for i in range(prod_list):\n",
    "            i=int(input(f'Enter price {product[i]}:'))\n",
    "            price.append(i)\n",
    "ans=input(\"Do You Want to add GST [Y/N]\")\n",
    "gst=int(input(\"Enter GST %\"))\n",
    "total=0\n",
    "\n",
    "if(ans=='Y'):\n",
    "    for i in range (prod_list):\n",
    "        print(f'{product[i]} = {price[i]}/-') \n",
    "\n",
    "total=sum(price)\n",
    "print(f'Total={total}')\n",
    "\n",
    "print(f'Gst={gst}%')\n",
    "\n",
    "gst_amt=(total*gst)/100\n",
    "\n",
    "final_total=total+gst_amt\n",
    "print(f'Final Total={final_total}/-')\n",
    "\n"
   ]
  },
  {
   "cell_type": "code",
   "execution_count": null,
   "id": "2b2566b5",
   "metadata": {},
   "outputs": [
    {
     "name": "stdout",
     "output_type": "stream",
     "text": [
      "samosa = 300/-\n",
      "kachori = 200/-\n",
      "fafda = 400/-\n",
      "jelabi = 200/-\n",
      "Total=1100\n",
      "Gst=18%\n",
      "Final Total=1298.0/-\n"
     ]
    }
   ],
   "source": [
    "\n",
    "\n",
    "\n",
    "\n",
    "\n",
    "\n",
    "\n",
    "\n",
    "\n"
   ]
  },
  {
   "cell_type": "code",
   "execution_count": 21,
   "id": "49e192d6",
   "metadata": {},
   "outputs": [
    {
     "name": "stdout",
     "output_type": "stream",
     "text": [
      "198.0\n"
     ]
    }
   ],
   "source": [
    "final_total=(total*gst)/100\n",
    "print(final_total)"
   ]
  }
 ],
 "metadata": {
  "kernelspec": {
   "display_name": "Python 3",
   "language": "python",
   "name": "python3"
  },
  "language_info": {
   "codemirror_mode": {
    "name": "ipython",
    "version": 3
   },
   "file_extension": ".py",
   "mimetype": "text/x-python",
   "name": "python",
   "nbconvert_exporter": "python",
   "pygments_lexer": "ipython3",
   "version": "3.13.5"
  }
 },
 "nbformat": 4,
 "nbformat_minor": 5
}
